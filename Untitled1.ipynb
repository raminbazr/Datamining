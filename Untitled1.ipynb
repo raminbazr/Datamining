{
  "nbformat": 4,
  "nbformat_minor": 0,
  "metadata": {
    "colab": {
      "provenance": [],
      "authorship_tag": "ABX9TyM0OWT0eTA2k15MY9VwM0Nw",
      "include_colab_link": true
    },
    "kernelspec": {
      "name": "python3",
      "display_name": "Python 3"
    },
    "language_info": {
      "name": "python"
    }
  },
  "cells": [
    {
      "cell_type": "markdown",
      "metadata": {
        "id": "view-in-github",
        "colab_type": "text"
      },
      "source": [
        "<a href=\"https://colab.research.google.com/github/raminbazr/Datamining/blob/main/Untitled1.ipynb\" target=\"_parent\"><img src=\"https://colab.research.google.com/assets/colab-badge.svg\" alt=\"Open In Colab\"/></a>"
      ]
    },
    {
      "cell_type": "code",
      "execution_count": null,
      "metadata": {
        "id": "0LcpAJVCbmr5"
      },
      "outputs": [],
      "source": [
        "import numpy as np\n",
        "import pandas as pd\n",
        "import matplotlib.pyplot as plt"
      ]
    },
    {
      "cell_type": "code",
      "source": [
        "pip install openpyxl==3.0.9"
      ],
      "metadata": {
        "id": "5_P0xbEdbpnT"
      },
      "execution_count": null,
      "outputs": []
    },
    {
      "cell_type": "code",
      "source": [
        "df = pd.read_excel(r'/content/rop-mix.xlsx',sheet_name='wells')"
      ],
      "metadata": {
        "id": "niWKn5mVbsuT"
      },
      "execution_count": null,
      "outputs": []
    },
    {
      "cell_type": "code",
      "source": [
        "df.info()"
      ],
      "metadata": {
        "id": "Lrqu_npgbyoi"
      },
      "execution_count": null,
      "outputs": []
    },
    {
      "cell_type": "markdown",
      "source": [
        "# **Feature enginering**"
      ],
      "metadata": {
        "id": "unEzgceLb2tj"
      }
    },
    {
      "cell_type": "code",
      "source": [
        "print(df.isnull().sum())"
      ],
      "metadata": {
        "id": "SvVje-ojbzOa"
      },
      "execution_count": null,
      "outputs": []
    },
    {
      "cell_type": "markdown",
      "source": [
        "**Drop excessive features**"
      ],
      "metadata": {
        "id": "6qD_w-sYcCEq"
      }
    },
    {
      "cell_type": "code",
      "source": [
        "df=df.drop(['ROP'],axis=1)      #1\n",
        "df=df.drop(['DateTime'],axis=1)   #2\n",
        "df=df.drop(['Time_drilling'],axis=1)    #3\n",
        "df=df.drop(['Time_washing'],axis=1)     #4\n",
        "df=df.drop(['Time_tripping'],axis=1)    #5\n",
        "df=df.drop([\"Dullgrading\"],axis=1)\n",
        "df=df.drop([\"Nozzel_num\"],axis=1) #6\n",
        "df=df.drop([\"Nozzel_size\"],axis=1)    #7\n",
        "df=df.drop(['BHA'],axis=1)\n",
        "df=df.drop(['BHAc'],axis=1)\n",
        "df=df.drop([\"Hole_diameter\"],axis=1)    #8\n",
        "df=df.drop(['Lithology'],axis=1)\n",
        "df=df.drop(['Lithologyc'],axis=1)\n",
        "df=df.drop(['Formation'],axis=1)\n",
        "#df=df.drop(['Formationc'],axis=1)\n",
        "df=df.drop(['WOB'],axis=1)\n",
        "df=df.drop(['Hole_depth'],axis=1)"
      ],
      "metadata": {
        "id": "ER4lartub8vS"
      },
      "execution_count": null,
      "outputs": []
    },
    {
      "cell_type": "code",
      "source": [
        "df.info()"
      ],
      "metadata": {
        "id": "OtHcM8sXcGib"
      },
      "execution_count": null,
      "outputs": []
    },
    {
      "cell_type": "markdown",
      "source": [
        "**Categorical Encoding**"
      ],
      "metadata": {
        "id": "vJ_zAN2pcKf7"
      }
    },
    {
      "cell_type": "markdown",
      "metadata": {
        "id": "YLMAoi2xgLN4"
      },
      "source": [
        "**Ordinal Categorical Features**: Ordinal categorical features have a natural ordered category. That is, one class is higher than another\n",
        "\n",
        "**Non-Ordinal Categorical Features:** This type of feature has no specific order."
      ]
    },
    {
      "cell_type": "code",
      "source": [
        "#remove pdm from df\n",
        "df.drop(df.index[df['BHAcc']=='pdm'],inplace=True)\n",
        "df.info()"
      ],
      "metadata": {
        "id": "Tbdp3tKRcP1D"
      },
      "execution_count": null,
      "outputs": []
    },
    {
      "cell_type": "code",
      "source": [
        "df['Mud-Type'].unique()"
      ],
      "metadata": {
        "id": "hoOV2Zj0cZC6"
      },
      "execution_count": null,
      "outputs": []
    },
    {
      "cell_type": "code",
      "source": [
        "df['BHAcc'].unique()  #5"
      ],
      "metadata": {
        "id": "x4AvfWULcdqq"
      },
      "execution_count": null,
      "outputs": []
    },
    {
      "cell_type": "code",
      "source": [
        "df['Bit-Type'].unique()"
      ],
      "metadata": {
        "id": "YDrjU8Bxcfsq"
      },
      "execution_count": null,
      "outputs": []
    },
    {
      "cell_type": "code",
      "source": [
        "df['Formationc'].unique()   #13"
      ],
      "metadata": {
        "id": "BzubLmSKchcK"
      },
      "execution_count": null,
      "outputs": []
    },
    {
      "cell_type": "code",
      "source": [
        "df['Formationc'].value_counts()"
      ],
      "metadata": {
        "id": "r1ZDjEk0ch4y"
      },
      "execution_count": null,
      "outputs": []
    },
    {
      "cell_type": "code",
      "source": [
        "#category formation\n",
        "map_formationc = {\"Aghajari\" : 1, \"Gs7.\": 2, \"Gs6.\":3, \"Gs5.\": 4, \"Gs4.\": 5,\"Gs3.\": 6 ,\"Gs2.\":7, \"C.R\":8,\n",
        "       \"Asmari\":9, \"Ilam\":10, \"sarvak\":11,\"Pabdeh\":12}\n",
        "\n",
        "df[\"Formationc\"]= df[\"Formationc\"].map(map_formationc)"
      ],
      "metadata": {
        "id": "YCx4EESmcmUi"
      },
      "execution_count": null,
      "outputs": []
    },
    {
      "cell_type": "code",
      "source": [
        "df[\"BHAcc\"].value_counts()"
      ],
      "metadata": {
        "id": "SgTERZaxcnNC"
      },
      "execution_count": null,
      "outputs": []
    },
    {
      "cell_type": "code",
      "source": [
        "#use a simple map Mud-Type\n",
        "map_BHAcc = {\"2stab\" : 1, \"nonstab\": 2, \"1stab\": 3, \"2stab_1nearbit\": 4}\n",
        "\n",
        "df['BHAcc']= df['BHAcc'].map(map_BHAcc)\n",
        "df['BHAcc'].value_counts()"
      ],
      "metadata": {
        "id": "-XvujGpEcpAC"
      },
      "execution_count": null,
      "outputs": []
    },
    {
      "cell_type": "markdown",
      "source": [
        "**Transmute Mud-Type object variable to int64 by frequency table of category column**"
      ],
      "metadata": {
        "id": "xXEj2S5JcuYs"
      }
    },
    {
      "cell_type": "code",
      "source": [
        "#frequency table of category column\n",
        "df[\"Mud-Type\"].value_counts()"
      ],
      "metadata": {
        "id": "EVUwnJKscv7a"
      },
      "execution_count": null,
      "outputs": []
    },
    {
      "cell_type": "code",
      "source": [
        "#use a simple map Mud-Type\n",
        "map_MudType = {\"saltwater\" : 1, \"saltsaturatedWBM\": 2, \"Bentonite\": 3, \"obm\": 4, \"WBM\":5 }\n",
        "\n",
        "df['Mud-Type']= df['Mud-Type'].map(map_MudType)\n",
        "df['Mud-Type'].value_counts()"
      ],
      "metadata": {
        "id": "4btpK9tmcx3Z"
      },
      "execution_count": null,
      "outputs": []
    },
    {
      "cell_type": "code",
      "source": [
        "df['Bit-Type'].value_counts()"
      ],
      "metadata": {
        "id": "zVu_K9Mpcz8a"
      },
      "execution_count": null,
      "outputs": []
    },
    {
      "cell_type": "code",
      "source": [
        "map_Bit = {\"roller_127\":1, \"roller_111\":2,\"PDC_MKS57DG\":3,\"PDC_M716VPX\":4, \"PDC_MKS56DG\":5,\"roller_115\":6,\"PDC_MKS76DG\":7}\n",
        "df['Bit-Type']=df['Bit-Type'].map(map_Bit)\n",
        "df['Bit-Type'].value_counts()"
      ],
      "metadata": {
        "id": "GR4SO1QGc14K"
      },
      "execution_count": null,
      "outputs": []
    },
    {
      "cell_type": "code",
      "source": [
        "df=pd.get_dummies(df)"
      ],
      "metadata": {
        "id": "dEs_3hnMc33K"
      },
      "execution_count": null,
      "outputs": []
    },
    {
      "cell_type": "markdown",
      "source": [
        "**NOW, we see all of the features type transmute to float or int**"
      ],
      "metadata": {
        "id": "FdPXXHWfc_jJ"
      }
    },
    {
      "cell_type": "code",
      "source": [
        "df.info()"
      ],
      "metadata": {
        "id": "qglct_T1c79h"
      },
      "execution_count": null,
      "outputs": []
    },
    {
      "cell_type": "markdown",
      "source": [
        "**Remove Outliers**"
      ],
      "metadata": {
        "id": "2LEjH96YdO_J"
      }
    },
    {
      "cell_type": "code",
      "source": [
        "import scipy\n",
        "from scipy.stats import zscore\n",
        "\n",
        "z_score = scipy.stats.zscore (df)\n",
        "\n",
        "abs_z_score = np.abs(z_score)\n",
        "filtered = (abs_z_score < 3).all(axis = 1)\n",
        "df = df[filtered]\n",
        "df"
      ],
      "metadata": {
        "id": "0Ump5MrcdQsZ"
      },
      "execution_count": null,
      "outputs": []
    }
  ]
}