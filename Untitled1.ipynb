{
  "nbformat": 4,
  "nbformat_minor": 0,
  "metadata": {
    "colab": {
      "provenance": [],
      "authorship_tag": "ABX9TyMWFQFA7qQ3AEPwX9GzsR/R",
      "include_colab_link": true
    },
    "kernelspec": {
      "name": "python3",
      "display_name": "Python 3"
    },
    "language_info": {
      "name": "python"
    }
  },
  "cells": [
    {
      "cell_type": "markdown",
      "metadata": {
        "id": "view-in-github",
        "colab_type": "text"
      },
      "source": [
        "<a href=\"https://colab.research.google.com/github/raminbazr/Datamining/blob/main/Untitled1.ipynb\" target=\"_parent\"><img src=\"https://colab.research.google.com/assets/colab-badge.svg\" alt=\"Open In Colab\"/></a>"
      ]
    },
    {
      "cell_type": "code",
      "execution_count": null,
      "metadata": {
        "id": "0LcpAJVCbmr5"
      },
      "outputs": [],
      "source": [
        "import numpy as np\n",
        "import pandas as pd\n",
        "import matplotlib.pyplot as plt"
      ]
    },
    {
      "cell_type": "code",
      "source": [
        "pip install openpyxl==3.0.9"
      ],
      "metadata": {
        "id": "5_P0xbEdbpnT"
      },
      "execution_count": null,
      "outputs": []
    },
    {
      "cell_type": "code",
      "source": [
        "df = pd.read_excel(r'/content/rop-mix.xlsx',sheet_name='wells')"
      ],
      "metadata": {
        "id": "niWKn5mVbsuT"
      },
      "execution_count": null,
      "outputs": []
    },
    {
      "cell_type": "code",
      "source": [
        "df.info()"
      ],
      "metadata": {
        "id": "Lrqu_npgbyoi"
      },
      "execution_count": null,
      "outputs": []
    },
    {
      "cell_type": "markdown",
      "source": [
        "# **Feature enginering**"
      ],
      "metadata": {
        "id": "unEzgceLb2tj"
      }
    },
    {
      "cell_type": "code",
      "source": [
        "print(df.isnull().sum())"
      ],
      "metadata": {
        "id": "SvVje-ojbzOa"
      },
      "execution_count": null,
      "outputs": []
    },
    {
      "cell_type": "markdown",
      "source": [
        "**Drop excessive features**"
      ],
      "metadata": {
        "id": "6qD_w-sYcCEq"
      }
    },
    {
      "cell_type": "code",
      "source": [
        "df=df.drop(['ROP'],axis=1)      #1\n",
        "df=df.drop(['DateTime'],axis=1)   #2\n",
        "df=df.drop(['Time_drilling'],axis=1)    #3\n",
        "df=df.drop(['Time_washing'],axis=1)     #4\n",
        "df=df.drop(['Time_tripping'],axis=1)    #5\n",
        "df=df.drop([\"Dullgrading\"],axis=1)\n",
        "df=df.drop([\"Nozzel_num\"],axis=1) #6\n",
        "df=df.drop([\"Nozzel_size\"],axis=1)    #7\n",
        "df=df.drop(['BHA'],axis=1)\n",
        "df=df.drop(['BHAc'],axis=1)\n",
        "df=df.drop([\"Hole_diameter\"],axis=1)    #8\n",
        "df=df.drop(['Lithology'],axis=1)\n",
        "df=df.drop(['Lithologyc'],axis=1)\n",
        "df=df.drop(['Formation'],axis=1)\n",
        "#df=df.drop(['Formationc'],axis=1)\n",
        "df=df.drop(['WOB'],axis=1)\n",
        "df=df.drop(['Hole_depth'],axis=1)"
      ],
      "metadata": {
        "id": "ER4lartub8vS"
      },
      "execution_count": null,
      "outputs": []
    },
    {
      "cell_type": "code",
      "source": [
        "df.info()"
      ],
      "metadata": {
        "id": "OtHcM8sXcGib"
      },
      "execution_count": null,
      "outputs": []
    },
    {
      "cell_type": "markdown",
      "source": [
        "**Categorical Encoding**"
      ],
      "metadata": {
        "id": "vJ_zAN2pcKf7"
      }
    },
    {
      "cell_type": "markdown",
      "metadata": {
        "id": "YLMAoi2xgLN4"
      },
      "source": [
        "**Ordinal Categorical Features**: Ordinal categorical features have a natural ordered category. That is, one class is higher than another\n",
        "\n",
        "**Non-Ordinal Categorical Features:** This type of feature has no specific order."
      ]
    },
    {
      "cell_type": "code",
      "source": [
        "#remove pdm from df\n",
        "df.drop(df.index[df['BHAcc']=='pdm'],inplace=True)\n",
        "df.info()"
      ],
      "metadata": {
        "id": "Tbdp3tKRcP1D"
      },
      "execution_count": null,
      "outputs": []
    },
    {
      "cell_type": "code",
      "source": [
        "df['Mud-Type'].unique()"
      ],
      "metadata": {
        "id": "hoOV2Zj0cZC6"
      },
      "execution_count": null,
      "outputs": []
    },
    {
      "cell_type": "code",
      "source": [
        "df['BHAcc'].unique()  #5"
      ],
      "metadata": {
        "id": "x4AvfWULcdqq"
      },
      "execution_count": null,
      "outputs": []
    },
    {
      "cell_type": "code",
      "source": [
        "df['Bit-Type'].unique()"
      ],
      "metadata": {
        "id": "YDrjU8Bxcfsq"
      },
      "execution_count": null,
      "outputs": []
    },
    {
      "cell_type": "code",
      "source": [
        "df['Formationc'].unique()   #13"
      ],
      "metadata": {
        "id": "BzubLmSKchcK"
      },
      "execution_count": null,
      "outputs": []
    },
    {
      "cell_type": "code",
      "source": [
        "df['Formationc'].value_counts()"
      ],
      "metadata": {
        "id": "r1ZDjEk0ch4y"
      },
      "execution_count": null,
      "outputs": []
    },
    {
      "cell_type": "code",
      "source": [
        "#category formation\n",
        "map_formationc = {\"Aghajari\" : 1, \"Gs7.\": 2, \"Gs6.\":3, \"Gs5.\": 4, \"Gs4.\": 5,\"Gs3.\": 6 ,\"Gs2.\":7, \"C.R\":8,\n",
        "       \"Asmari\":9, \"Ilam\":10, \"sarvak\":11,\"Pabdeh\":12}\n",
        "\n",
        "df[\"Formationc\"]= df[\"Formationc\"].map(map_formationc)"
      ],
      "metadata": {
        "id": "YCx4EESmcmUi"
      },
      "execution_count": null,
      "outputs": []
    },
    {
      "cell_type": "code",
      "source": [
        "df[\"BHAcc\"].value_counts()"
      ],
      "metadata": {
        "id": "SgTERZaxcnNC"
      },
      "execution_count": null,
      "outputs": []
    },
    {
      "cell_type": "code",
      "source": [
        "#use a simple map Mud-Type\n",
        "map_BHAcc = {\"2stab\" : 1, \"nonstab\": 2, \"1stab\": 3, \"2stab_1nearbit\": 4}\n",
        "\n",
        "df['BHAcc']= df['BHAcc'].map(map_BHAcc)\n",
        "df['BHAcc'].value_counts()"
      ],
      "metadata": {
        "id": "-XvujGpEcpAC"
      },
      "execution_count": null,
      "outputs": []
    },
    {
      "cell_type": "markdown",
      "source": [
        "**Transmute Mud-Type object variable to int64 by frequency table of category column**"
      ],
      "metadata": {
        "id": "xXEj2S5JcuYs"
      }
    },
    {
      "cell_type": "code",
      "source": [
        "#frequency table of category column\n",
        "df[\"Mud-Type\"].value_counts()"
      ],
      "metadata": {
        "id": "EVUwnJKscv7a"
      },
      "execution_count": null,
      "outputs": []
    },
    {
      "cell_type": "code",
      "source": [
        "#use a simple map Mud-Type\n",
        "map_MudType = {\"saltwater\" : 1, \"saltsaturatedWBM\": 2, \"Bentonite\": 3, \"obm\": 4, \"WBM\":5 }\n",
        "\n",
        "df['Mud-Type']= df['Mud-Type'].map(map_MudType)\n",
        "df['Mud-Type'].value_counts()"
      ],
      "metadata": {
        "id": "4btpK9tmcx3Z"
      },
      "execution_count": null,
      "outputs": []
    },
    {
      "cell_type": "code",
      "source": [
        "df['Bit-Type'].value_counts()"
      ],
      "metadata": {
        "id": "zVu_K9Mpcz8a"
      },
      "execution_count": null,
      "outputs": []
    },
    {
      "cell_type": "code",
      "source": [
        "map_Bit = {\"roller_127\":1, \"roller_111\":2,\"PDC_MKS57DG\":3,\"PDC_M716VPX\":4, \"PDC_MKS56DG\":5,\"roller_115\":6,\"PDC_MKS76DG\":7}\n",
        "df['Bit-Type']=df['Bit-Type'].map(map_Bit)\n",
        "df['Bit-Type'].value_counts()"
      ],
      "metadata": {
        "id": "GR4SO1QGc14K"
      },
      "execution_count": null,
      "outputs": []
    },
    {
      "cell_type": "code",
      "source": [
        "df=pd.get_dummies(df)"
      ],
      "metadata": {
        "id": "dEs_3hnMc33K"
      },
      "execution_count": null,
      "outputs": []
    },
    {
      "cell_type": "markdown",
      "source": [
        "**NOW, we see all of the features type transmute to float or int**"
      ],
      "metadata": {
        "id": "FdPXXHWfc_jJ"
      }
    },
    {
      "cell_type": "code",
      "source": [
        "df.info()"
      ],
      "metadata": {
        "id": "qglct_T1c79h"
      },
      "execution_count": null,
      "outputs": []
    },
    {
      "cell_type": "markdown",
      "source": [
        "**Remove Outliers**"
      ],
      "metadata": {
        "id": "2LEjH96YdO_J"
      }
    },
    {
      "cell_type": "code",
      "source": [
        "import scipy\n",
        "from scipy.stats import zscore\n",
        "\n",
        "z_score = scipy.stats.zscore (df)\n",
        "\n",
        "abs_z_score = np.abs(z_score)\n",
        "filtered = (abs_z_score < 3).all(axis = 1)\n",
        "df = df[filtered]\n",
        "df"
      ],
      "metadata": {
        "id": "0Ump5MrcdQsZ"
      },
      "execution_count": null,
      "outputs": []
    },
    {
      "cell_type": "markdown",
      "source": [
        "**Output variable ROP**"
      ],
      "metadata": {
        "id": "rUN55GAIiWwK"
      }
    },
    {
      "cell_type": "code",
      "source": [
        "y=df.ROPc\n",
        "y.shape"
      ],
      "metadata": {
        "id": "sGGLBqb2iYA4"
      },
      "execution_count": null,
      "outputs": []
    },
    {
      "cell_type": "markdown",
      "source": [
        "**Input_Variable exept ROP**"
      ],
      "metadata": {
        "id": "IFg1cpVGiaG4"
      }
    },
    {
      "cell_type": "code",
      "source": [
        "x = df.drop([\"ROPc\"],axis=1)\n",
        "x.shape"
      ],
      "metadata": {
        "id": "sdCTv7l7ieEH"
      },
      "execution_count": null,
      "outputs": []
    },
    {
      "cell_type": "markdown",
      "source": [
        "**Recursive Feature Elimination (RFE)**"
      ],
      "metadata": {
        "id": "-nFPla8MilQv"
      }
    },
    {
      "cell_type": "code",
      "source": [
        "# report which features were selected by RFE\n",
        "from sklearn.datasets import make_classification\n",
        "from sklearn.feature_selection import RFE\n",
        "from sklearn.tree import DecisionTreeClassifier\n",
        "from sklearn import preprocessing\n",
        "from sklearn import utils\n",
        "\n",
        "# define RFE\n",
        "rfe = RFE(estimator=DecisionTreeClassifier(), n_features_to_select=5)\n",
        "# fit RFE\n",
        "lab_enc = preprocessing.LabelEncoder()\n",
        "training_scores_encoded = lab_enc.fit_transform(y)\n",
        "print(training_scores_encoded)\n",
        "print(utils.multiclass.type_of_target(y))\n",
        "print(utils.multiclass.type_of_target(y.astype('int')))\n",
        "print(utils.multiclass.type_of_target(training_scores_encoded))\n",
        "\n",
        "fit = rfe.fit(x, training_scores_encoded)\n",
        "# summarize all features\n",
        "for i in range(x.shape[1]):\n",
        "\tprint('Column: %d, Selected %s, Rank: %.3f' % (i, rfe.support_[i], rfe.ranking_[i]))"
      ],
      "metadata": {
        "id": "LMfBPRLWigkP"
      },
      "execution_count": null,
      "outputs": []
    },
    {
      "cell_type": "code",
      "source": [
        "# Import your necessary dependencies\n",
        "from sklearn.feature_selection import RFE\n",
        "from sklearn.linear_model import LogisticRegression\n",
        "from sklearn import preprocessing\n",
        "from sklearn import utils\n",
        "\n",
        "# Feature extraction\n",
        "model = LogisticRegression()\n",
        "rfe = RFE(model)\n",
        "\n",
        "lab_enc = preprocessing.LabelEncoder()\n",
        "training_scores_encoded = lab_enc.fit_transform(y)\n",
        "print(training_scores_encoded)\n",
        "print(utils.multiclass.type_of_target(y))\n",
        "print(utils.multiclass.type_of_target(y.astype('int')))\n",
        "print(utils.multiclass.type_of_target(training_scores_encoded))\n",
        "\n",
        "fit = rfe.fit(x, training_scores_encoded)\n",
        "print(\"Num Features: %s\" % (fit.n_features_))\n",
        "print(\"Selected Features: %s\" % (fit.support_))\n",
        "print(\"Feature Ranking: %s\" % (fit.ranking_))"
      ],
      "metadata": {
        "id": "BCYDIXZhirQH"
      },
      "execution_count": null,
      "outputs": []
    },
    {
      "cell_type": "markdown",
      "source": [
        "**Random Forest Importance**"
      ],
      "metadata": {
        "id": "xTxWmm45iz43"
      }
    },
    {
      "cell_type": "code",
      "source": [
        "from sklearn.ensemble import RandomForestRegressor\n",
        "import numpy as np\n",
        "rf = RandomForestRegressor()\n",
        "names=df.columns\n",
        "rf.fit(x, y)\n",
        "print(\"Features sorted by their score:\")\n",
        "print(sorted(zip(map(lambda x: round(x, 4), rf.feature_importances_), names), \n",
        "             reverse=True))"
      ],
      "metadata": {
        "id": "Ggs0Eww8ivkH"
      },
      "execution_count": null,
      "outputs": []
    },
    {
      "cell_type": "markdown",
      "source": [
        "# **Normalization**"
      ],
      "metadata": {
        "id": "40H_ncTLjjeP"
      }
    },
    {
      "cell_type": "code",
      "source": [
        "#normalize the dataset\n",
        "from sklearn.preprocessing import MinMaxScaler\n",
        "scaler = MinMaxScaler(feature_range=(0,1))\n",
        "df = scaler.fit_transform(df)\n",
        "#df"
      ],
      "metadata": {
        "id": "mfOwX3BmjmAW"
      },
      "execution_count": null,
      "outputs": []
    },
    {
      "cell_type": "code",
      "source": [
        "#train\n",
        "scaler_x = MinMaxScaler(feature_range=(0,1))\n",
        "X_train =scaler_x.fit_transform (X_train)\n",
        "X_test =scaler_x.transform (X_test)\n",
        "\n",
        "#test\n",
        "#X_test = np.array(X_test)\n",
        "scaler_y = MinMaxScaler(feature_range=(0,1))\n",
        "y_train = np.array(y_train).reshape(-1,1)\n",
        "y_train =scaler_y.fit_transform (y_train)\n",
        "y_test = np.array(y_test).reshape(-1,1)\n",
        "y_test =scaler_y.fit_transform (y_test)"
      ],
      "metadata": {
        "id": "yld9tDSxjmvW"
      },
      "execution_count": null,
      "outputs": []
    },
    {
      "cell_type": "markdown",
      "source": [
        "# **train and test size**"
      ],
      "metadata": {
        "id": "ej_6gtgVi_jn"
      }
    },
    {
      "cell_type": "code",
      "source": [
        "# split into train and test sets\n",
        "train_size = int(len(df)*0.8)\n",
        "test_size = len(df) - train_size\n",
        "train,test = df[0:train_size,:] ,df[train_size:len(df),:]\n",
        "print(len(train),len(test))"
      ],
      "metadata": {
        "id": "tLqMvFKojE0H"
      },
      "execution_count": null,
      "outputs": []
    },
    {
      "cell_type": "markdown",
      "source": [
        "# ***Split Data***"
      ],
      "metadata": {
        "id": "u1a-6Q3TjHf3"
      }
    },
    {
      "cell_type": "code",
      "source": [
        "# split into train test sets\n",
        "from sklearn.model_selection import train_test_split\n",
        "X_train, X_test, y_train, y_test = train_test_split(x, y,test_size=0.2,train_size = 0.8)\n",
        "#X_train, X_val , y_train, y_val = train_test_split (X_train, y_train,test_size=0.2, train_size=0.8,shuffle=True)"
      ],
      "metadata": {
        "id": "YtGz1IrtjLBm"
      },
      "execution_count": null,
      "outputs": []
    },
    {
      "cell_type": "code",
      "source": [
        "print(\"shape of original dataset :\", df.shape)\n",
        "print(\"shape of input - training set\", X_train.shape)\n",
        "print(\"shape of output - training set\", y_train.shape)\n",
        "#print(\"shape of input - val set\", X_val.shape)\n",
        "#print(\"shape of output - val set\", y_val.shape)\n",
        "print(\"shape of input - testing set\", X_test.shape)\n",
        "print(\"shape of output - testing set\", y_test.shape)"
      ],
      "metadata": {
        "id": "SaOsC4IVjXVm"
      },
      "execution_count": null,
      "outputs": []
    }
  ]
}